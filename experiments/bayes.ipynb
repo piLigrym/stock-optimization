{
 "cells": [
  {
   "cell_type": "code",
   "execution_count": 72,
   "id": "initial_id",
   "metadata": {
    "collapsed": true,
    "ExecuteTime": {
     "end_time": "2024-01-07T14:02:56.602225Z",
     "start_time": "2024-01-07T14:02:56.599080Z"
    }
   },
   "outputs": [],
   "source": [
    "import pysmile\n",
    "\n",
    "# this import required in order to run library in academic mode\n",
    "# it import license key from file pysmile_license.py as suggested in official documentation\n",
    "import pysmile_license\n"
   ]
  },
  {
   "cell_type": "code",
   "execution_count": 73,
   "outputs": [],
   "source": [
    "def create_cpt_node(net, id, name, outcomes):\n",
    "    handle = net.add_node(pysmile.NodeType.CPT, id)\n",
    "    net.set_node_name(handle, name)\n",
    "    # net.set_node_position(handle, x_pos, y_pos, 85, 55)\n",
    "    initial_outcome_count = net.get_outcome_count(handle)\n",
    "    for i in range(0, initial_outcome_count):\n",
    "        net.set_outcome_id(handle, i, outcomes[i])\n",
    "    for i in range(initial_outcome_count, len(outcomes)):\n",
    "        net.add_outcome(handle, outcomes[i])\n",
    "    return handle"
   ],
   "metadata": {
    "collapsed": false,
    "ExecuteTime": {
     "end_time": "2024-01-07T14:02:56.611291Z",
     "start_time": "2024-01-07T14:02:56.606136Z"
    }
   },
   "id": "5473c469acdadff9"
  },
  {
   "cell_type": "code",
   "execution_count": 74,
   "outputs": [],
   "source": [
    "network = pysmile.Network()\n"
   ],
   "metadata": {
    "collapsed": false,
    "ExecuteTime": {
     "end_time": "2024-01-07T14:02:56.616554Z",
     "start_time": "2024-01-07T14:02:56.609716Z"
    }
   },
   "id": "803b5002eda3290a"
  },
  {
   "cell_type": "code",
   "execution_count": 75,
   "outputs": [],
   "source": [
    "# Adding nodes. Each node represents a variable.\n",
    "e_node = create_cpt_node(network, \"EI\", \"Economic_Indicators\", [\"Low\", \"Medium\", \"High\"])\n",
    "m_node = create_cpt_node(network, \"MI\", \"Market_Indicators\", [\"Good\",\"Moderate\",\"Poor\"])\n",
    "p_node = create_cpt_node(network, \"PC\", \"Portfolio_Characteristics\", [\"Balanced\",\"Specific\"])\n",
    "r_node = create_cpt_node(network, \"RL\", \"Risk_Level\", [\"Low\", \"Medium\", \"High\"])\n"
   ],
   "metadata": {
    "collapsed": false,
    "ExecuteTime": {
     "end_time": "2024-01-07T14:02:56.616995Z",
     "start_time": "2024-01-07T14:02:56.614988Z"
    }
   },
   "id": "b208ab2216843ca2"
  },
  {
   "cell_type": "code",
   "execution_count": 76,
   "outputs": [],
   "source": [
    "network.add_arc(e_node, m_node)\n",
    "network.add_arc(m_node, r_node)\n",
    "network.add_arc(p_node, r_node)\n"
   ],
   "metadata": {
    "collapsed": false,
    "ExecuteTime": {
     "end_time": "2024-01-07T14:02:56.621593Z",
     "start_time": "2024-01-07T14:02:56.617941Z"
    }
   },
   "id": "20035dac84436f5a"
  },
  {
   "cell_type": "code",
   "execution_count": 77,
   "outputs": [],
   "source": [
    "network.set_node_definition(e_node, [0.5, 0.2, 0.3]) \n",
    "network.set_node_definition(m_node, [\n",
    "    0.2, 0.4, 0.4, \n",
    "    0.4, 0.3, 0.3, \n",
    "    0.2, 0.3, 0.5]) \n",
    "network.set_node_definition(p_node, [0.3, 0.7]) \n",
    "network.set_node_definition(r_node, [\n",
    "    0.1, 0.2, 0.7, \n",
    "    0.4, 0.4, 0.2, \n",
    "    0.7, 0.2, 0.1, \n",
    "    0.2, 0.3, 0.5, \n",
    "    0.3, 0.2, 0.5, \n",
    "    0.6, 0.2, 0.2\n",
    "]) \n"
   ],
   "metadata": {
    "collapsed": false,
    "ExecuteTime": {
     "end_time": "2024-01-07T14:02:56.626196Z",
     "start_time": "2024-01-07T14:02:56.621770Z"
    }
   },
   "id": "363893f7f313c788"
  },
  {
   "cell_type": "code",
   "execution_count": 78,
   "outputs": [],
   "source": [
    "network.update_beliefs()"
   ],
   "metadata": {
    "collapsed": false,
    "ExecuteTime": {
     "end_time": "2024-01-07T14:02:56.629758Z",
     "start_time": "2024-01-07T14:02:56.624748Z"
    }
   },
   "id": "8d1ef96b8a45b2bb"
  },
  {
   "cell_type": "code",
   "execution_count": 79,
   "outputs": [
    {
     "name": "stdout",
     "output_type": "stream",
     "text": [
      "Low=0.406\n",
      "Medium=0.2581\n",
      "High=0.3359\n"
     ]
    }
   ],
   "source": [
    "result = network.get_node_value(\"RL\")\n",
    "\n",
    "for i in range(0, len(result)):\n",
    "        print(network.get_outcome_id(\"RL\", i) + \"=\" + str(result[i]))"
   ],
   "metadata": {
    "collapsed": false,
    "ExecuteTime": {
     "end_time": "2024-01-07T14:02:56.630313Z",
     "start_time": "2024-01-07T14:02:56.628019Z"
    }
   },
   "id": "639deed8b1de449"
  }
 ],
 "metadata": {
  "kernelspec": {
   "display_name": "Python 3",
   "language": "python",
   "name": "python3"
  },
  "language_info": {
   "codemirror_mode": {
    "name": "ipython",
    "version": 2
   },
   "file_extension": ".py",
   "mimetype": "text/x-python",
   "name": "python",
   "nbconvert_exporter": "python",
   "pygments_lexer": "ipython2",
   "version": "2.7.6"
  }
 },
 "nbformat": 4,
 "nbformat_minor": 5
}

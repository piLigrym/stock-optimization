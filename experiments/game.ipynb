{
 "cells": [
  {
   "cell_type": "code",
   "execution_count": 36,
   "id": "initial_id",
   "metadata": {
    "collapsed": true,
    "ExecuteTime": {
     "end_time": "2024-01-08T12:42:08.444569Z",
     "start_time": "2024-01-08T12:42:08.438580Z"
    }
   },
   "outputs": [
    {
     "name": "stdout",
     "output_type": "stream",
     "text": [
      "Strategies summary for player A [0.02 0.87 0.11]\n",
      "Strategies summary for player B [0.35 0.01 0.64]\n"
     ]
    }
   ],
   "source": [
    "import numpy as np\n",
    "import pandas as pd\n",
    "\n",
    "# Initialize variables and payoff matrix\n",
    "payoff_matrix = np.array([\n",
    "    [5, 2, -1],\n",
    "    [3, 6, 2],\n",
    "    [-2, 1, 4]\n",
    "])\n",
    "iterations = 100  # Number of iterations for the method\n",
    "cumulative_payoffs_A = np.zeros(3)\n",
    "cumulative_payoffs_B = np.zeros(3)\n",
    "strategy_counts_A = np.zeros(3)\n",
    "strategy_counts_B = np.zeros(3)\n",
    "results = np.zeros((iterations, 12))  # Initialize results matrix\n",
    "\n",
    "# 1. Player A chooses the best pure strategy (maximin)\n",
    "strategy_A = np.argmax(payoff_matrix.min(axis=1))\n",
    "# 2. Player B chooses the best strategy based on the initial strategy of Player A (outside the loop)\n",
    "strategy_B = np.argmax(payoff_matrix[strategy_A, :])\n",
    "\n",
    "for k in range(iterations):\n",
    "    \n",
    "    # Update the cumulative payoff for each strategy of both players\n",
    "    cumulative_payoffs_A += payoff_matrix[:, strategy_B]\n",
    "    cumulative_payoffs_B += payoff_matrix[strategy_A, :]\n",
    "\n",
    "    # Update the count of strategies chosen by both players\n",
    "    strategy_counts_A[strategy_A] += 1\n",
    "    strategy_counts_B[strategy_B] += 1\n",
    "\n",
    "    # In the next iterations, player A and B should choose based on the previous results\n",
    "    # Player A chooses the strategy with the highest cumulative payoff\n",
    "    strategy_A = np.argmax(cumulative_payoffs_A)\n",
    "    # Player B chooses the strategy minimizing the cumulative payoff of A\n",
    "    strategy_B = np.argmin(cumulative_payoffs_B)\n",
    "\n",
    "    # Calculate average maximum win and game price\n",
    "    avg_max_win_A = np.max(cumulative_payoffs_A) / (k + 1)\n",
    "    avg_max_win_B = np.max(cumulative_payoffs_B) / (k + 1)\n",
    "    avg_game_price = (avg_max_win_A + avg_max_win_B) / 2\n",
    "\n",
    "    # Store the results\n",
    "    results[k] = [\n",
    "        k + 1,  # iteration num\n",
    "        strategy_B + 1,  # pure strategy for player B (1-indexed)\n",
    "        *cumulative_payoffs_A,  # current win of first player\n",
    "        strategy_A + 1,  # pure strategy for player A (1-indexed)\n",
    "        *cumulative_payoffs_B,  # current win of second player\n",
    "        avg_max_win_A,  # average max win for the first player\n",
    "        avg_max_win_B,  # average max win for the second player\n",
    "        avg_game_price  # average game price in N iterations\n",
    "    ]\n",
    "\n",
    "\n",
    "# Convert results to DataFrame for better readability\n",
    "results_df = pd.DataFrame(results, columns=[\n",
    "    \"Iteration\",\n",
    "    \"Strategy B\",\n",
    "    \"Cumulative Win A1\",\n",
    "    \"Cumulative Win A2\",\n",
    "    \"Cumulative Win A3\",\n",
    "    \"Strategy A\",\n",
    "    \"Cumulative Win B1\",\n",
    "    \"Cumulative Win B2\",\n",
    "    \"Cumulative Win B3\",\n",
    "    \"Avg Max Win A\",\n",
    "    \"Avg Max Win B\",\n",
    "    \"Avg Game Price\"\n",
    "])\n",
    "\n",
    "# Calculate the final strategies for each player\n",
    "final_strategy_A = strategy_counts_A / iterations\n",
    "final_strategy_B = strategy_counts_B / iterations\n",
    "\n",
    "print(\"Strategies summary for player A\", final_strategy_A)\n",
    "print(\"Strategies summary for player B\", final_strategy_B)\n"
   ]
  },
  {
   "cell_type": "code",
   "execution_count": 36,
   "outputs": [],
   "source": [],
   "metadata": {
    "collapsed": false,
    "ExecuteTime": {
     "end_time": "2024-01-08T12:42:08.446585Z",
     "start_time": "2024-01-08T12:42:08.445040Z"
    }
   },
   "id": "312a0549603f6f22"
  }
 ],
 "metadata": {
  "kernelspec": {
   "display_name": "Python 3",
   "language": "python",
   "name": "python3"
  },
  "language_info": {
   "codemirror_mode": {
    "name": "ipython",
    "version": 2
   },
   "file_extension": ".py",
   "mimetype": "text/x-python",
   "name": "python",
   "nbconvert_exporter": "python",
   "pygments_lexer": "ipython2",
   "version": "2.7.6"
  }
 },
 "nbformat": 4,
 "nbformat_minor": 5
}
